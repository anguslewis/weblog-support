{
 "cells": [
  {
   "cell_type": "markdown",
   "metadata": {},
   "source": [
    "### Aaronson, del Rio, Frauchiger, Renner: Quantum Theory Cannot Consistently Describe the Use of Itself\n",
    "\n",
    "Wigner has many friends, and they can disagree: **Daniela Frauchiger and Renato Renner**: _[Quantum Theory Cannot Consistently Describe the Use of Itself](https://www.nature.com/articles/s41467-018-05739-8)_. **Lidia del Rio**: _[Journal club: Frauchiger-Renner No-Go theorem for Single-World Interpretations of Quantum Theory](https://www.perimeterinstitute.ca/videos/journal-club-frauchiger-renner-no-go-theorem-single-world-interpretations-quantum-theory)_: \"In this talk I will go over the recent paper by Daniela Frauchiger and Renato Renner, \"Single-World Interpretations of Quantum Theory Cannot Be Self-Consistent\" (arXiv:1604.07422)... \n",
    "\n",
    ">...The paper introduces an extended Wigner's friend thought experiment, which makes use of Hardy's paradox to show that agents will necessarily reach contradictory conclusions-unless they take into account that they themselves may be in a superposition, and that their subjective experience of observing an outcome is not the whole story. Frauchiger and Renner then put this experiment in context within a general framework to analyse physical theories. This leads to a theorem saying that a theory cannot be simultaneously (1) compliant with quantum theory, including at the macroscopic level, (2) single-world, and (3) self-consistent across different agents. In this talk I will (1) describe the experiment and its immediate consequences, (2) quickly review how different interpretations react to it, (3) explain the framework and theorem in more detail...\n",
    "\n",
    "----\n",
    "\n",
    "**Scott Aaronson**: _[It’s Hard to Think When Someone Hadamards Your Brain](https://www.scottaaronson.com/blog/?p=3975)_: \"So: a bunch of people asked for my reaction to the new Nature Communications paper by Daniela Frauchiger and Renato Renner, provocatively titled 'Quantum Theory Cannot Consistently Describe the Use of Itself'... <!--more-->\n",
    "\n",
    ">...While I found their paper thought-provoking, I reject the contention that there’s any new problem with QM’s logical consistency: for reasons I’ll explain, I think there’s only the same quantum weirdness that (to put it mildly) we’ve known about for quite some time.... The new argument rests on just three assumptions... QM works, measurements have definite outcomes, and the “transitivity of knowledge”... if you reject the argument, then you must reject at least one of the three assumptions; and how different interpretations (Copenhagen, Many-Worlds, Bohmian mechanics, etc.) make different choices about what to reject. But I reject an assumption that Frauchiger and Renner never formalize.  That assumption is, basically: “it makes sense to chain together statements that involve superposed agents measuring each other’s brains in different incompatible bases, as if the statements still referred to a world where these measurements weren’t being done”....\n",
    "\n",
    ">The argument can be understood as simply the “Wigner’s-friendification” of Hardy’s Paradox.... Take Hardy’s paradox from 1992, and promote its entangled qubits to the status of conscious observers who are in superpositions over thinking different thoughts.  Having talked to Renner about it, I don’t think he fully endorses the preceding statement.  But since I fully endorse it, let me explain the two ingredients that I think are getting combined here—starting with Hardy’s paradox, which I confess I didn’t know (despite knowing Lucien Hardy himself!) before the Frauchiger-Renner paper forced me to learn it.... If you strip away the words and look only at the actual setup, it seems to me that Frauchiger and Renner’s contribution is basically to combine Hardy’s paradox with the earlier Wigner’s friend paradox.  They thereby create something that doesn’t involve counterfactuals quite as obviously as Hardy’s paradox does, and so requires a new discussion...\n",
    "\n",
    "----\n",
    "\n",
    "**My attempt to understand**: Prepare the state $ |\\psi\\rangle $:\n",
    "\n",
    "> $ |\\psi\\rangle = \\frac{|↑↑\\rangle + |↑↓\\rangle \n",
    "+ |↓↑\\rangle}{\\sqrt{3}} $\n",
    "\n",
    "Alice measures the first qubit; Bob measures the second.\n",
    "\n",
    "Conditional on Alice's qubit being in state |↑〉:\n",
    "\n",
    "> $ |Bob\\rangle = \\frac{|↑\\rangle + |↓\\rangle}{\\sqrt{2}} = |→\\rangle $\n",
    "\n",
    "so Bob can never see $ |←\\rangle = \\frac{|↑\\rangle - |↓\\rangle}{\\sqrt{2}} $.\n",
    "\n",
    "Conditioned on Bob’s qubit being in the state |↑〉:\n",
    "\n",
    "> $ |Alice\\rangle = \\frac{|↑\\rangle + |↓\\rangle}{\\sqrt{2}} = |→\\rangle> $\n",
    "\n",
    "so Alice can never see $ |←\\rangle = \\frac{|↑\\rangle - |↓\\rangle}{\\sqrt{2}} $.\n",
    "\n",
    "Since there is no $ |↓↓\\rangle> $ component in the state, either Bob or Alice must be |↑〉. Therefore either Alice or Bob must be $ |→\\rangle $ Therefore we can never see $ |←←\\rangle $ when Alice and Bob measure. Yet we do, 1/12 of the time.\n",
    "\n",
    "So now we Wignerize it: \n",
    "\n",
    "1. Alice measures ↑↓.\n",
    "2. Wigner observes, writes \"I have observed Alice's measurement and drawn the appropriate conclusions about whether Bob can see $ |←\\rangle $\", and leaves that message behind.\n",
    "3. Wigner departs beyond an event horizon, leaving no possibility of decohering with the rest of the universe.\n",
    "4. A quantum eraser is applied to Alice and her particle.\n",
    "5. Bob measures ↑↓.\n",
    "6. Wigner's friend observes, writes \"I have observed Bob's measurement and drawn the appropriate conclusions about whether Alice can see $ |←\\rangle $\", and leaves that message behind.\n",
    "7. Wigner's friend departs beyond an event horizon, leaving no possibility of decohering with the rest of the universe.\n",
    "8. A quantum eraser is applied to Bob and his particle.\n",
    "9. Off beyond their event respective event horizons, either Wigner is in the state $ \\frac{|↑↑\\rangle + |↑↓\\rangle}{\\sqrt{2}} $ or Wigner's friend is in the state $ \\frac{|↑↑\\rangle + ||↓↑\\rangle}{\\sqrt{3}} $, and so either Wigner or Wigner's friend _knows_ Bob or Alice, respectively, cannot have seen $ |←\\rangle $ .\n",
    "10. You, knowing what one of Wigner and Wigner's friend _knows_ beyond their respective event horizons, use the \"consistent reasoning\" heuristic to conclude that $ |←← \\rangle $ is impossible.\n",
    "11. Alice and Bob then measure →←.\n",
    "12. You look, and 1/12 of the time you see a fully decohered $ |←← \\rangle $.\n",
    "\n",
    "----\n",
    "\n",
    "<http://nbviewer.jupyter.org/github/braddelong/weblog-support/blob/master/2018-09-27%20Aaronson%2C%20del%20Rio%2C%20Frauchiger%2C%20Renner-%20Quantum%20Theory%20Cannot%20Consistently%20Describe%20the%20Use%20of%20Itself.ipynb>"
   ]
  }
 ],
 "metadata": {
  "kernelspec": {
   "display_name": "Python 3",
   "language": "python",
   "name": "python3"
  },
  "language_info": {
   "codemirror_mode": {
    "name": "ipython",
    "version": 3
   },
   "file_extension": ".py",
   "mimetype": "text/x-python",
   "name": "python",
   "nbconvert_exporter": "python",
   "pygments_lexer": "ipython3",
   "version": "3.6.5"
  }
 },
 "nbformat": 4,
 "nbformat_minor": 2
}
