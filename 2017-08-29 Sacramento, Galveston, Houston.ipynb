{
 "cells": [
  {
   "cell_type": "markdown",
   "metadata": {},
   "source": [
    "# 2017-08-29 Sacramento, Galveston, Houston"
   ]
  },
  {
   "cell_type": "code",
   "execution_count": 1,
   "metadata": {},
   "outputs": [
    {
     "name": "stdout",
     "output_type": "stream",
     "text": [
      "-4.26489079392 : 100000\n",
      "-3.71901648546 : 10000\n",
      "-3.09023230617 : 1000\n",
      "-2.32634787404 : 100\n",
      "-1.28155156554 : 10\n"
     ]
    }
   ],
   "source": [
    "from scipy.stats import norm\n",
    "\n",
    "for i in [100000, 10000, 1000, 100, 10]:\n",
    "    print(norm.ppf(1/i), \":\", i)"
   ]
  },
  {
   "cell_type": "markdown",
   "metadata": {},
   "source": [
    "## 2017-08-29 Sacramento Ship Channel\n",
    "\n",
    "I suspect that somewhere out there—somewhere with a quantum wave function amplitude perhaps as large as ours—there is a well dredged Sacramento Ship Channel extending from the busy Port of Sacramento—second busiest on the West Coast behind Long Beach—down to the Golden Gate.\n",
    "\n",
    "In that branch of reality, Sacramento was not buried under ten feet of water in January 1862:\n",
    "\n",
    ">California’s new Governor, Leland Stanford, was to be inaugurated on January 10 [1862], but the floodwaters swept through Sacramento that day, submerging the city. Citizens fled by any means possible, yet the inauguration ceremony took place at the capital building anyway, despite the mounting catastrophe. Governor Stanford was forced to travel from his mansion to the capital building by rowboat. Following the expedited ceremony, with floodwaters rising at a rate of one foot per hour, Stanford rowed back to his mansion, where he was forced to steer his boat to a second story window in order to enter his home. Conditions did not improve in the following weeks. California’s legislature, unable to function in the submerged city, finally gave up and moved to San Francisco on January 22, to wait out the floods... \n",
    "\n",
    ">>—**B. Lynn Ingram** (2013): <span style=\"text-transform: uppercase;\">California Megaflood: Lessons from a Forgotten Catastrophe</span> <https://www.scientificamerican.com/article/atmospheric-rivers-california-megaflood-lessons-from-forgotten-catastrophe/>\n",
    "\n",
    "<img style=\"display:block; margin-left:auto; margin-right:auto;\" src=\"http://delong.typepad.com/.a/6a00e551f08003883401bb09be03c3970d-pi\" alt=\"California Megaflood Lessons from a Forgotten Catastrophe Scientific American\" title=\"California_Megaflood__Lessons_from_a_Forgotten_Catastrophe_-_Scientific_American.png\" border=\"0\" width=\"600\" height=\"484\" />\n",
    "\n",
    "It lasted for more than three months. Ingram further reports: \"William Brewer wrote a series of letters to his brother on the east coast describing the surreal scenes of tragedy that he witnessed during his travels in the region that winter and spring.... [On] January 31, 1862, Brewer wrote:\n",
    "\n",
    ">Thousands of farms are entirely under water—cattle starving and drowning. All the roads in the middle of the state are impassable; so all mails are cut off. The telegraph also does not work clear through. In the Sacramento Valley for some distance the tops of the poles are under water. The entire valley was a lake extending from the mountains on one side to the coast range hills on the other. Steamers ran back over the ranches fourteen miles from the river, carrying stock, etc, to the hills. Nearly every house and farm over this immense region is gone. America has never before seen such desolation by flood as this has been, and seldom has the Old World seen the like.\n",
    "Brewer describes a great sheet of brown rippling water extending from the Coast Range to the Sierra Nevada. One-quarter of the state’s estimated 800,000 cattle drowned in the flood, marking the beginning of the end of the cattle-based ranchero society in California. One-third of the state’s property was destroyed, and one home in eight was destroyed completely or carried away by the floodwaters...\n",
    "\n",
    "And Brewer reported from Sacramento in March, three months later:\n",
    "\n",
    ">Such a desolate scene I hope to never see again. Most of the city is still under water, and has been there for three months. A part is out of the water, that is, the streets are above water, but every low place is full—cellars and yards are full, houses and walls wet, everything uncomfortable. No description that I can write will give you any adequate conception of the discomfort and wretchedness this must give rise to. I took a boat and two boys, and we rowed about for an hour or two. Houses, stores, stables, everything, were surrounded by water. Yards were ponds enclosed by dilapidated, muddy, slimy fences; household furniture, chairs, tables, sofas, the fragments of houses, were floating in the muddy waters or lodged in nooks and corners. I saw three sofas floating in different yards. The basements of the better class of houses were half full of water, and through the windows, one could see chairs, tables, bedsteads, etc., afloat. Through the windows of a schoolhouse I saw the benches and desks afloat. Over most of the city boats are still the only way of getting around.\n",
    "\n",
    ">The new Capital is far out in the water—the Governor’s house stands as in a lake—churches, public buildings, private buildings, everything, are wet or in the water. Not a road leading from the city is passable, business is at a dead standstill, everything looks forlorn and wretched. Many houses have partially toppled over; some have been carried from their foundations, several streets (now avenues of water) are blocked up with houses that have floated in them, dead animals lie about here and there—a dreadful picture. I don’t think the city will ever rise from the shock, I don’t see how it can...\n",
    "\n",
    "And in that branch of reality Sacramento is still the largest metropolis in Northern California.\n",
    "\n",
    "San Francisco is beautiful and has magnificent weather. And San Francisco as one of the worlds greatest harbors. But it is not that easy—it has never been that easy—to get from San Francisco to any place else worthwhile inland. If you are going to break bulk only once, it would make more sense to break bulk for oceangoing trade at Sacramento, close to California's resources, including the best agricultural production environment in the world.\n",
    "\n",
    "Not, mind you, that Sacramento is a ghost town. It is still has the California state government. Sacramento is still close to California and resources. Governor Stanford moved back: he added an extra floor to his house, and moved all of his furniture one floor up, abandoning the ground floor to future floods—which did not come. Over the next decade, the City Fathers of Saramento brought in dirt to raise the level of the ground by up to ten feet. Sacramento is, thee days, thriving. But there is no comparison between it and San Francisco today. And there is no deep and regularly dredged Sacramento ship channel.\n",
    "\n",
    "By contrast, there is a well dredged Houston Ship Channel.\n",
    "\n",
    "And there is a Port of Houston, seventh-busiest in America with 2 million TEUs (Twenty foot container Equivalent Units)/year of cargo (albeit only a tenth of LA-Long Beach). And there is a metropolis of Houston, with 7 million people and $450 billion/year in economic product,\n",
    "\n",
    "Originally, however, the metropolis of the Texas Gulf Coast was not supposed to be Houston, but Galveston.\n",
    "\n",
    "<img style=\"display:block; margin-left:auto; margin-right:auto;\" src=\"http://delong.typepad.com/.a/6a00e551f08003883401b7c91ac6c8970b-pi\" alt=\"Galveston Hurricane Aftermath\" title=\"Galveston_Hurricane_Aftermath.png\" border=\"0\" width=\"600\" />\n",
    "\n",
    "Galveston does not need a dredged ship channel of more than 50 miles. But Galveston is vulnerable to hurricane storm surges. The early September Galveston Hurricane of 1900 killed perhaps 10,000 people out of the 60,000 or so living in and near Galveston. The storm surge of 15 feet overwhelmed a port build only 8 feet above sea level.\n",
    "\n",
    "We had Hurricane Deniers then, just as we have Global Warming Deniers now. A decade before the Galveston Hurricane, Isaac Cline, local booster and Director of the Galveston Weather Bureau, dismissed the utility of a seawall, claiming that Galveston was safe from storm surges from nearly Gulf of Mexico was too shallow to push enough water into a hill that would overwhelm the city. He wrote:\n",
    "\n",
    ">It would be impossible for any cyclone to create a storm wave which could materially injure the city...\" he wrote.\n",
    "\n",
    ">>—see **Miss Cellania**: <span style=\"text-transform: uppercase;\">The Deadliest Natural Disaster in US History</span>: <http://www.neatorama.com/2017/08/02/The-Deadliest-Natural-Disaster-in-US-History/>\n",
    "\n",
    "After the hurricane had passed, Isaac Cline's pregnant wife Cora Cline was dead, drowned.\n",
    "\n",
    "And after the Galveston Hurricane, people pulled up stakes and moved to Houston, safely away from storm surges. And they built the Houston Ship Channel. And now, after Hurricane Harvey, Houston is a bathtub:\n",
    "\n",
    "<img style=\"display:block; margin-left:auto; margin-right:auto;\" src=\"http://delong.typepad.com/.a/6a00e551f08003883401bb09be06af970d-pi\" alt=\"Four Day Rainfall\" title=\"Four Day Rainfall\" border=\"0\" width=\"600\" />\n",
    "\n",
    "Houston will probably come back. The refineries aren't going to move. The bio-medical infrastructure isn't going to move. Those are powerful growth drivers for the metropolitan area. But everybody else is going to be thinking: Why Houston? Why not Dallas?\n",
    "\n",
    "Houston in the futur ewill have to offer a considerable cost advantage in rents and so forth in order to attract new organizations that could otherwise locate in Dallas.\n",
    "\n",
    "Finally, a word on the \"BUT IT HAS NOTHING TO DO WITH GLOBAL WARMING!\" grifters...\n",
    "\n",
    "Only insurance quants and a few others understand how much of impact shifts in the mean of a distribution have on the frequency of tail events. A one-in-a-hundred-thousand event takes place at a standard normal cumulative value of -4.26. Move the mean 0.52 of a standard deviation in that direction, and it is a one-in-ten-thousand event. Move the mean another 0.63 of a stndard deviation in that direction, and it is a one-in-a-thousand event. Another 0.76 gets us to one-in-a-hundred. And another 1.05 gets us to one-in-ten. You may say: \"Distributions aren't Gaussian! The tails do not grow that fast!\" And then I say: If distributions aren't Gaussian, then you really should have been much more worried about tail event catastrophes in the first place, shouldn't you?"
   ]
  },
  {
   "cell_type": "markdown",
   "metadata": {},
   "source": [
    "----\n",
    "\n",
    "<https://github.com/braddelong/weblog-support/blob/master/2017-08-29%20Sacramento%2C%20Galveston%2C%20Houston.ipynb>"
   ]
  }
 ],
 "metadata": {
  "kernelspec": {
   "display_name": "Python 3",
   "language": "python",
   "name": "python3"
  },
  "language_info": {
   "codemirror_mode": {
    "name": "ipython",
    "version": 3
   },
   "file_extension": ".py",
   "mimetype": "text/x-python",
   "name": "python",
   "nbconvert_exporter": "python",
   "pygments_lexer": "ipython3",
   "version": "3.6.1"
  }
 },
 "nbformat": 4,
 "nbformat_minor": 2
}
