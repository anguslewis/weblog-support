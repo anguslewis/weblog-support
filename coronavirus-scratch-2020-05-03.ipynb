{
 "cells": [
  {
   "cell_type": "markdown",
   "metadata": {},
   "source": [
    "# Coronavirus Scratch Pad\n",
    "\n",
    "## The Basic Model\n",
    "\n",
    "### The Framework\n",
    "\n",
    "Assume a continuum of people, indexed by j ∈ [0, 1]. \n",
    "\n",
    "* For each j there is a measure of how gregarious/infective the people at that j are: how many others they instantaneously contact: $ g_j $. \n",
    "\n",
    "* For each j, there are measures of how many of the people at that j are currently, at each time t, susceptible, infected, and recovered: $ s_{jt} +  i_{jt} + r_{jt} = 1 $.\n",
    "\n",
    "* People recover from being infected at rate $ \\rho $ (including dying): $ \\frac{dr_{jt}}{dt} = \\rho i_{jt} $\n",
    "\n",
    "* A fraction $ \\delta $ of the recovered are dead: $ d_{jt} = \\delta r_{jt} $\n",
    "\n",
    "* People get infected if they are susceptible and if one of the $ g_j $ they contact is currently infected: $\\frac{di_{jt}}{dt} = g_j s_{jt} I_t - \\rho i_{jt} $\n",
    "\n",
    "* The total number of currently infected: $ I_t = \\int_0^1 {i_{jt} dj} $ \n",
    "\n",
    "* The total number of currently recovered: $ R_t = \\int_0^1 {r_{jt} dj} $\n",
    "\n",
    "* The total number of currently susceptiable: $ S_t = \\int_0^1 {s_{jt} dj} $\n",
    "\n",
    "* The total number of currently dead is: $ D_t = \\delta R_t $\n",
    "\n",
    "&nbsp;\n",
    "\n",
    "### Initial Conditions\n",
    "\n",
    "* Initially, before the epidemic: $ s_{j0} = S_0 = 1 - I_0 $\n",
    "\n",
    "* Initially, before the epidemic: $ r_{j0} = R_0 = 0 $\n",
    "\n",
    "* Initially, before the epidemic: $ i_{j0} = I_0  $\n",
    "\n",
    "&nbsp;\n",
    "\n",
    "### Parameters\n",
    "\n",
    "There is one initial infection rate $ I_0 $, one recovery rate $ \\rho $, one share of the recovered who are dead $ \\delta $, and a continuum of gregarious rates $ g_j $.\n",
    "\n",
    "For simplicity let us cut our number of parameters to five and assign the $ g_j $ linearly based on two end parameters $ g_{min} $ and $ g_{max} $: $ g_j = j \\left( g^{max} \\right) + (1-j) \\left( g^{min} \\right) $\n",
    "\n",
    "&nbsp;\n",
    "\n",
    "---"
   ]
  },
  {
   "cell_type": "code",
   "execution_count": 1,
   "metadata": {},
   "outputs": [
    {
     "data": {
      "text/plain": [
       "<matplotlib.axes._subplots.AxesSubplot at 0x11bb6a3d0>"
      ]
     },
     "execution_count": 1,
     "metadata": {},
     "output_type": "execute_result"
    },
    {
     "data": {
      "image/png": "[encoded data removed]",
      "text/plain": [
       "<Figure size 432x288 with 1 Axes>"
      ]
     },
     "metadata": {
      "needs_background": "light"
     },
     "output_type": "display_data"
    }
   ],
   "source": [
    "import numpy as np\n",
    "import scipy as sp\n",
    "import pandas as pd\n",
    "import matplotlib as mpl\n",
    "import matplotlib.pyplot as plt\n",
    "%matplotlib inline\n",
    "\n",
    "# paramaters\n",
    "\n",
    "time = 200                    # time periods we run the simulation for\n",
    "bins = 101                    # number of bins into which the population is divided\n",
    "\n",
    "R_zero_min = 2.5              # R_0 for least gregarious/infective\n",
    "R_zero_max = 2.5              # R_0 for most gregarious/infective\n",
    "\n",
    "rho = 0.1                     # recovery rate\n",
    "g_min = R_zero_min * rho      # minimum gregariousness/infectiveness\n",
    "g_max = R_zero_max * rho      # maximum gregariousness/infectiveness\n",
    "delta = 0.01                  # death rate\n",
    "\n",
    "I_zero = 0.0001               # initial infection rate\n",
    "\n",
    "# averages over the population at the current moment of S, I, R—\n",
    "# susceptible, infected, recovered (or dead), initialized to their\n",
    "# time-zero values\n",
    "I_tavg = I_zero \n",
    "R_tavg = 0\n",
    "S_tavg = 1 - I_zero\n",
    "\n",
    "# time series for the entire population of the fractions S, I, R;\n",
    "# initialized with their time-zero values\n",
    "T_pop = [0]\n",
    "R_pop = [R_tavg]\n",
    "I_pop = [I_tavg]\n",
    "S_pop = [S_tavg]\n",
    "\n",
    "# heterogeneity across the population in gregariousness/infectiveness\n",
    "G = np.linspace(g_min, g_max, 101)\n",
    "\n",
    "# initial conditions across the population, for all j:\n",
    "R_0 = 0*G\n",
    "I_0 = 0*G + I_zero\n",
    "S_0 = 1 - I_zero\n",
    "\n",
    "# arrays to hold current-time population heterogeneity—all j at the current\n",
    "# moment of time—initialized to their values at time zero:\n",
    "R = R_0\n",
    "I = I_0\n",
    "S = S_0\n",
    "\n",
    "# arrays to hold all the numbers—for all j, and for all t—for when we want\n",
    "# to look at them later:\n",
    "R_array = [R]\n",
    "I_array = [I]\n",
    "S_array = [S]\n",
    "\n",
    "# loop to calculate all the numbers:\n",
    "for t in range(0, time):    \n",
    "    R = R + rho * I\n",
    "    I = (1-rho) * I + I_tavg * G * S\n",
    "    S = - (R + I - 1) \n",
    "    \n",
    "    # subloop to calculate average S, I, R across all j at the current\n",
    "    # moment of time:\n",
    "    I_tavg = 0\n",
    "    R_tavg = 0\n",
    "    S_tavg = 0\n",
    "    for j in range(0, bins):\n",
    "        I_tavg = I_tavg + I[j]/bins \n",
    "        R_tavg = R_tavg + R[j]/bins\n",
    "        S_tavg = S_tavg + S[j]/bins\n",
    "\n",
    "    # update the full arrays with the current numbers for all j:\n",
    "    R_array = R_array + [R]\n",
    "    I_array = I_array + [I]\n",
    "    S_array = S_array + [S]\n",
    "    \n",
    "    # update the time series of population averages:\n",
    "    T_pop = T_pop + [t+1]\n",
    "    R_pop = R_pop + [R_tavg]\n",
    "    S_pop = S_pop + [S_tavg]\n",
    "    I_pop = I_pop + [I_tavg]\n",
    "\n",
    "pd.DataFrame(I_pop).plot(title = \"Fraction Currently Infected\", legend = False)"
   ]
  },
  {
   "cell_type": "code",
   "execution_count": 2,
   "metadata": {},
   "outputs": [
    {
     "data": {
      "text/plain": [
       "<matplotlib.axes._subplots.AxesSubplot at 0x11b4b6d50>"
      ]
     },
     "execution_count": 2,
     "metadata": {},
     "output_type": "execute_result"
    },
    {
     "data": {
      "image/png": "[encoded data removed]",
      "text/plain": [
       "<Figure size 432x288 with 1 Axes>"
      ]
     },
     "metadata": {
      "needs_background": "light"
     },
     "output_type": "display_data"
    }
   ],
   "source": [
    "Results = [R_pop, S_pop,I_pop]\n",
    "Results_df = pd.DataFrame(Results).transpose()\n",
    "Results_df.columns = [\"Recovered (Including Dead)\", \"Still Susceptible\", \"Currently Infected\"]\n",
    "\n",
    "Results_df.plot(title=\"SIR Model\")"
   ]
  },
  {
   "cell_type": "code",
   "execution_count": 3,
   "metadata": {},
   "outputs": [
    {
     "data": {
      "text/plain": [
       "0.10087844165170001"
      ]
     },
     "execution_count": 3,
     "metadata": {},
     "output_type": "execute_result"
    }
   ],
   "source": [
    "S_tavg"
   ]
  }
 ],
 "metadata": {
  "kernelspec": {
   "display_name": "Python 3",
   "language": "python",
   "name": "python3"
  },
  "language_info": {
   "codemirror_mode": {
    "name": "ipython",
    "version": 3
   },
   "file_extension": ".py",
   "mimetype": "text/x-python",
   "name": "python",
   "nbconvert_exporter": "python",
   "pygments_lexer": "ipython3",
   "version": "3.7.7"
  }
 },
 "nbformat": 4,
 "nbformat_minor": 4
}
