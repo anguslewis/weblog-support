{
 "cells": [
  {
   "cell_type": "markdown",
   "metadata": {},
   "source": [
    "# A Note: How Much Difference Does Heterogeneity Make in the Susceptible, Infected, Recovered (or Not) Model?\n",
    "\n",
    "It turns out it makes a significant amount of difference:\n",
    "\n",
    "&nbsp;\n",
    "\n",
    "## The Basic Model\n",
    "\n",
    "### The Framework\n",
    "\n",
    "Assume a continuum of people, indexed by j ∈ [0, 1]. \n",
    "\n",
    "* For each j there is a measure of how gregarious/vulnerable the people at that j are: how many others they instantaneously contact: $ g_j $. \n",
    "\n",
    "* For each j, there are measures of how many of the people at that j are currently, at each time t, susceptible, infected, and recovered: $ s_{jt} +  i_{jt} + r_{jt} = 1 $.\n",
    "\n",
    "* People recover from being infected at rate $ \\rho $ (including dying): $ \\frac{dr_{jt}}{dt} = \\rho i_{jt} $\n",
    "\n",
    "* A fraction $ \\delta $ of the recovered are dead: $ d_{jt} = \\delta r_{jt} $\n",
    "\n",
    "* People get infected if they are susceptible and if one of the $ g_j $ they contact is currently infected: $\\frac{di_{jt}}{dt} = g_j s_{jt} I_t - \\rho i_{jt} $\n",
    "\n",
    "* The total number of currently infected: $ I_t = \\int_0^1 {i_{jt} dj} $ \n",
    "\n",
    "* The total number of currently recovered: $ R_t = \\int_0^1 {r_{jt} dj} $\n",
    "\n",
    "* The total number of currently susceptiable: $ S_t = \\int_0^1 {s_{jt} dj} $\n",
    "\n",
    "* The total number of currently dead is: $ D_t = \\delta R_t $\n",
    "\n",
    "&nbsp;\n",
    "\n",
    "### Initial Conditions\n",
    "\n",
    "* Initially, before the epidemic: $ s_{j0} = S_0 = 1 - I_0 $\n",
    "\n",
    "* Initially, before the epidemic: $ r_{j0} = R_0 = 0 $\n",
    "\n",
    "* Initially, before the epidemic: $ i_{j0} = I_0  $\n",
    "\n",
    "&nbsp;\n",
    "\n",
    "### Parameters\n",
    "\n",
    "There is one initial infection rate $ I_0 $, one recovery rate $ \\rho $, one share of the recovered who are dead $ \\delta $, and a continuum of gregarious/vulnerable rates $ g_j $.\n",
    "\n",
    "For simplicity let us cut our number of parameters to five and assign the $ g_j $ linearly based on two end parameters $ g_{min} $ and $ g_{max} $: $ g_j = j \\left( g^{max} \\right) + (1-j) \\left( g^{min} \\right) $\n",
    "\n",
    "&nbsp;\n",
    "\n",
    "---"
   ]
  },
  {
   "cell_type": "code",
   "execution_count": 1,
   "metadata": {},
   "outputs": [
    {
     "data": {
      "text/plain": [
       "<matplotlib.axes._subplots.AxesSubplot at 0x11c2c9650>"
      ]
     },
     "execution_count": 1,
     "metadata": {},
     "output_type": "execute_result"
    },
    {
     "data": {
      "image/png": "[encoded data removed]",
      "text/plain": [
       "<Figure size 432x288 with 1 Axes>"
      ]
     },
     "metadata": {
      "needs_background": "light"
     },
     "output_type": "display_data"
    }
   ],
   "source": [
    "import numpy as np\n",
    "import scipy as sp\n",
    "import pandas as pd\n",
    "import matplotlib as mpl\n",
    "import matplotlib.pyplot as plt\n",
    "%matplotlib inline\n",
    "\n",
    "# paramaters\n",
    "\n",
    "time = 200                    # time periods we run the simulation for\n",
    "bins = 101                    # number of bins into which the population is divided\n",
    "\n",
    "R_zero_min = 0.0              # R_0 for least gregarious/infective\n",
    "R_zero_max = 5.0              # R_0 for most gregarious/infective\n",
    "\n",
    "rho = 0.1                     # recovery rate\n",
    "g_min = R_zero_min * rho      # minimum gregariousness/infectiveness\n",
    "g_max = R_zero_max * rho      # maximum gregariousness/infectiveness\n",
    "delta = 0.01                  # death rate\n",
    "\n",
    "I_zero = 0.0001               # initial infection rate\n",
    "\n",
    "# averages over the population at the current moment of S, I, R—\n",
    "# susceptible, infected, recovered (or dead), initialized to their\n",
    "# time-zero values\n",
    "I_tavg = I_zero \n",
    "R_tavg = 0\n",
    "S_tavg = 1 - I_zero\n",
    "\n",
    "# time series for the entire population of the fractions S, I, R;\n",
    "# initialized with their time-zero values\n",
    "T_pop = [0]\n",
    "R_pop = [R_tavg]\n",
    "I_pop = [I_tavg]\n",
    "S_pop = [S_tavg]\n",
    "\n",
    "# heterogeneity across the population in gregariousness/infectiveness\n",
    "G = np.linspace(g_min, g_max, 101)\n",
    "\n",
    "# initial conditions across the population, for all j:\n",
    "R_0 = 0*G\n",
    "I_0 = 0*G + I_zero\n",
    "S_0 = 1 - I_zero\n",
    "\n",
    "# arrays to hold current-time population heterogeneity—all j at the current\n",
    "# moment of time—initialized to their values at time zero:\n",
    "R = R_0\n",
    "I = I_0\n",
    "S = S_0\n",
    "\n",
    "# arrays to hold all the numbers—for all j, and for all t—for when we want\n",
    "# to look at them later:\n",
    "R_array = [R]\n",
    "I_array = [I]\n",
    "S_array = [S]\n",
    "\n",
    "# loop to calculate all the numbers:\n",
    "for t in range(0, time):    \n",
    "    R = R + rho * I\n",
    "    I = (1-rho) * I + I_tavg * G * S\n",
    "    S = - (R + I - 1) \n",
    "    \n",
    "    # subloop to calculate average S, I, R across all j at the current\n",
    "    # moment of time:\n",
    "    I_tavg = 0\n",
    "    R_tavg = 0\n",
    "    S_tavg = 0\n",
    "    for j in range(0, bins):\n",
    "        I_tavg = I_tavg + I[j]/bins \n",
    "        R_tavg = R_tavg + R[j]/bins\n",
    "        S_tavg = S_tavg + S[j]/bins\n",
    "\n",
    "    # update the full arrays with the current numbers for all j:\n",
    "    R_array = R_array + [R]\n",
    "    I_array = I_array + [I]\n",
    "    S_array = S_array + [S]\n",
    "    \n",
    "    # update the time series of population averages:\n",
    "    T_pop = T_pop + [t+1]\n",
    "    R_pop = R_pop + [R_tavg]\n",
    "    S_pop = S_pop + [S_tavg]\n",
    "    I_pop = I_pop + [I_tavg]\n",
    "\n",
    "pd.DataFrame(I_pop).plot(title = \"Fraction Currently Infected\", legend = False)"
   ]
  },
  {
   "cell_type": "code",
   "execution_count": 2,
   "metadata": {},
   "outputs": [
    {
     "data": {
      "text/plain": [
       "<matplotlib.axes._subplots.AxesSubplot at 0x11ca7add0>"
      ]
     },
     "execution_count": 2,
     "metadata": {},
     "output_type": "execute_result"
    },
    {
     "data": {
      "image/png": "[encoded data removed]",
      "text/plain": [
       "<Figure size 432x288 with 1 Axes>"
      ]
     },
     "metadata": {
      "needs_background": "light"
     },
     "output_type": "display_data"
    }
   ],
   "source": [
    "Results = [R_pop, S_pop,I_pop]\n",
    "Results_df = pd.DataFrame(Results).transpose()\n",
    "Results_df.columns = [\"Recovered (Including Dead)\", \"Still Susceptible\", \"Currently Infected\"]\n",
    "\n",
    "Results_df.plot(title=\"SIR Model\")"
   ]
  },
  {
   "cell_type": "code",
   "execution_count": 3,
   "metadata": {},
   "outputs": [
    {
     "data": {
      "text/plain": [
       "0.2641891122421484"
      ]
     },
     "execution_count": 3,
     "metadata": {},
     "output_type": "execute_result"
    }
   ],
   "source": [
    "S_tavg"
   ]
  },
  {
   "cell_type": "markdown",
   "metadata": {},
   "source": [
    "## Results\n",
    "\n",
    "<img src=\"https://delong.typepad.com/img/r0-2_5-for-everyone.png\" width=\"300\" /> <img src=\"https://delong.typepad.com/img/r0-from-2_5-to-5.png\" width=\"300\" />\n",
    "\n",
    "So instead of doing my day job this afternoon, I began wondering about how much the Susceptible, Infected, Recovered (or Not)'s suppression of individual heterogeneity affects its conclusions. Suppose that people have different amounts of gregariousness/infectiveness so that if everyone were like the most gregarious and vulnerable people the R_0 for the epidemic would be 5, and if everyone were like the least gregarious and vulnerable people the R_0 for the epidemic would be 0, with the population varying linearly between those extremes. How much different would the course of the epidemic be than for a society where everyone was identical and R_0 was 2.5?\n",
    "\n",
    "The answer is: substantial. If I have not made a mistake in my model-building or my python code—always an \"if\"—then the difference is substantial: 26% of the population escapes the epidemic for $ R_0 $ distributed between 0 and 5 with an average of 2.5. Only 10% escapes the epidemic if everyone's $ R_0 $ is 2.5. \n",
    "\n",
    "The intuition is clear: By the time half of the population has been infected, an overwhelming number of those with high R_0's have been infected. Thus those who are still susceptible have personal R_0's much lower than the average. In the early stages, however—before any noticeable component of the population has been infected—the course of the epidemic tracks the average R_0 very closely. It is when it begins to fall off the exponential that the differences become apparent: not only are some of those who would be infected by exponential growth now immune (or dead), but those left who could be infected have lower R_0's than the average.\n",
    "\n",
    "----"
   ]
  },
  {
   "cell_type": "markdown",
   "metadata": {},
   "source": [
    "&nbsp;\n",
    "\n",
    "## <font color=\"880000\"> Note: Coronavirus Heterogeneity </font>\n",
    "\n",
    "<img src=\"https://tinyurl.com/20181029a-delong\" width=\"300\" style=\"float:right\" />\n",
    "\n",
    "* Ask me two questions…\n",
    "* Make two comments…\n",
    "* Further reading…\n",
    "\n",
    "<br clear=\"all\" />\n",
    "\n",
    "----\n",
    "\n",
    "weblog support: <https://github.com/braddelong/weblog-support/blob/master/coronavirus-r0-heterogeneity.ipynb>        \n",
    "nbViewer: <https://nbviewer.jupyter.org/github/braddelong/weblog-support/blob/master/coronavirus-r0-heterogeneity.ipynb>       \n",
    "datahub: <http://datahub.berkeley.edu/user-redirect/interact?account=braddelong&repo=weblog-support&branch=master&path=coronavirus-r0-heterogeneity.ipynb>    \n",
    "\n",
    "&nbsp;\n",
    "\n",
    "----"
   ]
  }
 ],
 "metadata": {
  "kernelspec": {
   "display_name": "Python 3",
   "language": "python",
   "name": "python3"
  },
  "language_info": {
   "codemirror_mode": {
    "name": "ipython",
    "version": 3
   },
   "file_extension": ".py",
   "mimetype": "text/x-python",
   "name": "python",
   "nbconvert_exporter": "python",
   "pygments_lexer": "ipython3",
   "version": "3.7.7"
  }
 },
 "nbformat": 4,
 "nbformat_minor": 4
}
